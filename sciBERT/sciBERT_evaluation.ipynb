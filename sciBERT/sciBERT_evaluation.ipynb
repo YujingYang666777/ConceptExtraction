{
  "nbformat": 4,
  "nbformat_minor": 0,
  "metadata": {
    "colab": {
      "provenance": [],
      "machine_shape": "hm"
    },
    "kernelspec": {
      "name": "python3",
      "display_name": "Python 3"
    },
    "language_info": {
      "name": "python"
    },
    "accelerator": "GPU",
    "gpuClass": "standard"
  },
  "cells": [
    {
      "cell_type": "code",
      "source": [
        "from google.colab import drive\n",
        "drive.mount('/content/drive')"
      ],
      "metadata": {
        "id": "ZansVDRYeXR7"
      },
      "execution_count": null,
      "outputs": []
    },
    {
      "cell_type": "code",
      "source": [
        "!pip install scispacy\n",
        "!pip install spacy-transformers\n",
        "!python -m spacy download en_core_web_trf\n",
        "!pip install https://s3-us-west-2.amazonaws.com/ai2-s2-scispacy/releases/v0.5.1/en_core_sci_scibert-0.5.1.tar.gz"
      ],
      "metadata": {
        "id": "mO3eYUiOA5K0"
      },
      "execution_count": null,
      "outputs": []
    },
    {
      "cell_type": "code",
      "source": [
        "!pip3 install scikit-learn==0.23.2\n",
        "!pip3 install nltk\n",
        "!pip3 install sklearn_crfsuite"
      ],
      "metadata": {
        "id": "9ejLTWY8esWJ"
      },
      "execution_count": null,
      "outputs": []
    },
    {
      "cell_type": "code",
      "source": [
        "!git clone https://github.com/davidsbatista/NER-Evaluation.git"
      ],
      "metadata": {
        "id": "JA7VvgyifJtN",
        "colab": {
          "base_uri": "https://localhost:8080/"
        },
        "outputId": "46d10780-e3a0-45df-92b6-3c6dcaec14ab"
      },
      "execution_count": 4,
      "outputs": [
        {
          "output_type": "stream",
          "name": "stdout",
          "text": [
            "Cloning into 'NER-Evaluation'...\n",
            "remote: Enumerating objects: 234, done.\u001b[K\n",
            "remote: Counting objects: 100% (4/4), done.\u001b[K\n",
            "remote: Compressing objects: 100% (4/4), done.\u001b[K\n",
            "remote: Total 234 (delta 0), reused 2 (delta 0), pack-reused 230\u001b[K\n",
            "Receiving objects: 100% (234/234), 82.22 KiB | 20.55 MiB/s, done.\n",
            "Resolving deltas: 100% (117/117), done.\n"
          ]
        }
      ]
    },
    {
      "cell_type": "code",
      "source": [
        "import nltk\n",
        "import sklearn_crfsuite\n",
        "\n",
        "from copy import deepcopy\n",
        "from collections import defaultdict\n",
        "import pandas as pd\n",
        "\n",
        "from sklearn_crfsuite.metrics import flat_classification_report\n",
        "\n",
        "from NER_Evaluation.ner_evaluation.ner_eval import collect_named_entities\n",
        "from NER_Evaluation.ner_evaluation.ner_eval import compute_metrics\n",
        "from NER_Evaluation.ner_evaluation.ner_eval import compute_precision_recall_wrapper\n",
        "from NER_Evaluation.ner_evaluation.ner_eval import namedtuple\n",
        "from NER_Evaluation.ner_evaluation.ner_eval import compute_precision_recall\n",
        "from NER_Evaluation.ner_evaluation.ner_eval import Evaluator"
      ],
      "metadata": {
        "id": "d94HfKkaeiLi"
      },
      "execution_count": 5,
      "outputs": []
    },
    {
      "cell_type": "markdown",
      "source": [
        "# Preprocess test data"
      ],
      "metadata": {
        "id": "zHHTi7HYEFSH"
      }
    },
    {
      "cell_type": "code",
      "source": [
        "test_data_path = \"/content/drive/MyDrive/fine-turning-dataset/sciNER/test.json\"\n",
        "df_test = pd.read_json(test_data_path, lines=True)\n",
        "df_test"
      ],
      "metadata": {
        "colab": {
          "base_uri": "https://localhost:8080/",
          "height": 641
        },
        "id": "dwecO6neEIiz",
        "outputId": "9c576e16-1b62-461a-f0cb-b0f1435b7932"
      },
      "execution_count": 6,
      "outputs": [
        {
          "output_type": "execute_result",
          "data": {
            "text/plain": [
              "                                             clusters  \\\n",
              "0   [[[59, 64], [73, 73]], [[0, 3], [34, 34]], [[5...   \n",
              "1   [[[83, 86], [102, 102], [129, 129]], [[75, 75]...   \n",
              "2        [[[74, 77], [85, 85]], [[60, 60], [65, 65]]]   \n",
              "3   [[[18, 21], [44, 44]], [[46, 46], [49, 49], [8...   \n",
              "4   [[[1, 3], [17, 17], [88, 88]], [[11, 12], [38,...   \n",
              "..                                                ...   \n",
              "95  [[[7, 11], [38, 39]], [[3, 3], [43, 43], [85, ...   \n",
              "96     [[[57, 57], [120, 120]], [[30, 30], [65, 65]]]   \n",
              "97                                                 []   \n",
              "98                               [[[5, 5], [70, 70]]]   \n",
              "99  [[[3, 8], [56, 57]], [[22, 22], [45, 45]], [[6...   \n",
              "\n",
              "                                            sentences  \\\n",
              "0   [[Recognition, of, proper, nouns, in, Japanese...   \n",
              "1   [[We, propose, to, incorporate, a, priori, geo...   \n",
              "2   [[This, work, proposes, a, new, research, dire...   \n",
              "3   [[Listen-Communicate-Show, -LRB-, LCS, -RRB-, ...   \n",
              "4   [[A, domain, independent, model, is, proposed,...   \n",
              "..                                                ...   \n",
              "95  [[We, introduce, a, method, to, accelerate, th...   \n",
              "96  [[Background, modeling, is, an, important, com...   \n",
              "97  [[Information, distillation, aims, to, extract...   \n",
              "98  [[This, paper, presents, a, novel, representat...   \n",
              "99  [[Fast, algorithms, for, nearest, neighbor, -L...   \n",
              "\n",
              "                                                  ner  \\\n",
              "0   [[[0, 3, Task], [2, 3, OtherScientificTerm], [...   \n",
              "1   [[[5, 7, OtherScientificTerm], [10, 15, Method...   \n",
              "2   [[[10, 12, OtherScientificTerm], [10, 16, Task...   \n",
              "3   [[[0, 3, Task], [9, 13, Task]], [[18, 21, Meth...   \n",
              "4   [[[1, 3, Method], [8, 12, Task], [11, 12, Othe...   \n",
              "..                                                ...   \n",
              "95  [[[3, 3, Generic], [7, 11, Task], [17, 18, Met...   \n",
              "96  [[[0, 1, Task], [8, 9, Task]], [[23, 26, Other...   \n",
              "97  [[[0, 1, Task], [15, 24, Material]], [[36, 38,...   \n",
              "98  [[[5, 5, Generic], [7, 8, OtherScientificTerm]...   \n",
              "99  [[[0, 1, Generic], [3, 8, Task], [16, 16, Othe...   \n",
              "\n",
              "                                            relations                  doc_key  \n",
              "0   [[[0, 3, 19, 20, PART-OF], [2, 3, 5, 6, PART-O...                 X96-1059  \n",
              "1   [[[5, 7, 10, 15, PART-OF], [23, 24, 32, 35, US...         ICCV_2001_47_abs  \n",
              "2   [[], [[23, 26, 30, 31, USED-FOR]], [[47, 48, 5...  INTERSPEECH_2013_21_abs  \n",
              "3   [[[0, 3, 9, 13, USED-FOR]], [[23, 25, 18, 21, ...                 H01-1049  \n",
              "4   [[[1, 3, 8, 12, USED-FOR], [14, 14, 11, 12, FE...                 C96-1062  \n",
              "..                                                ...                      ...  \n",
              "95  [[[3, 3, 7, 11, USED-FOR], [17, 18, 3, 3, USED...         CVPR_2010_30_abs  \n",
              "96  [[[0, 1, 8, 9, PART-OF]], [], [[33, 35, 30, 30...         CVPR_2004_30_abs  \n",
              "97         [[], [[36, 38, 41, 44, USED-FOR]], [], []]  INTERSPEECH_2007_40_abs  \n",
              "98  [[[5, 5, 7, 8, USED-FOR], [12, 14, 7, 8, FEATU...         CVPR_2003_30_abs  \n",
              "99  [[[0, 1, 3, 8, USED-FOR]], [[22, 22, 24, 25, U...         NIPS_2016_80_abs  \n",
              "\n",
              "[100 rows x 5 columns]"
            ],
            "text/html": [
              "\n",
              "  <div id=\"df-7a4cd3cc-84e3-4de8-a34e-550efeaabcc6\">\n",
              "    <div class=\"colab-df-container\">\n",
              "      <div>\n",
              "<style scoped>\n",
              "    .dataframe tbody tr th:only-of-type {\n",
              "        vertical-align: middle;\n",
              "    }\n",
              "\n",
              "    .dataframe tbody tr th {\n",
              "        vertical-align: top;\n",
              "    }\n",
              "\n",
              "    .dataframe thead th {\n",
              "        text-align: right;\n",
              "    }\n",
              "</style>\n",
              "<table border=\"1\" class=\"dataframe\">\n",
              "  <thead>\n",
              "    <tr style=\"text-align: right;\">\n",
              "      <th></th>\n",
              "      <th>clusters</th>\n",
              "      <th>sentences</th>\n",
              "      <th>ner</th>\n",
              "      <th>relations</th>\n",
              "      <th>doc_key</th>\n",
              "    </tr>\n",
              "  </thead>\n",
              "  <tbody>\n",
              "    <tr>\n",
              "      <th>0</th>\n",
              "      <td>[[[59, 64], [73, 73]], [[0, 3], [34, 34]], [[5...</td>\n",
              "      <td>[[Recognition, of, proper, nouns, in, Japanese...</td>\n",
              "      <td>[[[0, 3, Task], [2, 3, OtherScientificTerm], [...</td>\n",
              "      <td>[[[0, 3, 19, 20, PART-OF], [2, 3, 5, 6, PART-O...</td>\n",
              "      <td>X96-1059</td>\n",
              "    </tr>\n",
              "    <tr>\n",
              "      <th>1</th>\n",
              "      <td>[[[83, 86], [102, 102], [129, 129]], [[75, 75]...</td>\n",
              "      <td>[[We, propose, to, incorporate, a, priori, geo...</td>\n",
              "      <td>[[[5, 7, OtherScientificTerm], [10, 15, Method...</td>\n",
              "      <td>[[[5, 7, 10, 15, PART-OF], [23, 24, 32, 35, US...</td>\n",
              "      <td>ICCV_2001_47_abs</td>\n",
              "    </tr>\n",
              "    <tr>\n",
              "      <th>2</th>\n",
              "      <td>[[[74, 77], [85, 85]], [[60, 60], [65, 65]]]</td>\n",
              "      <td>[[This, work, proposes, a, new, research, dire...</td>\n",
              "      <td>[[[10, 12, OtherScientificTerm], [10, 16, Task...</td>\n",
              "      <td>[[], [[23, 26, 30, 31, USED-FOR]], [[47, 48, 5...</td>\n",
              "      <td>INTERSPEECH_2013_21_abs</td>\n",
              "    </tr>\n",
              "    <tr>\n",
              "      <th>3</th>\n",
              "      <td>[[[18, 21], [44, 44]], [[46, 46], [49, 49], [8...</td>\n",
              "      <td>[[Listen-Communicate-Show, -LRB-, LCS, -RRB-, ...</td>\n",
              "      <td>[[[0, 3, Task], [9, 13, Task]], [[18, 21, Meth...</td>\n",
              "      <td>[[[0, 3, 9, 13, USED-FOR]], [[23, 25, 18, 21, ...</td>\n",
              "      <td>H01-1049</td>\n",
              "    </tr>\n",
              "    <tr>\n",
              "      <th>4</th>\n",
              "      <td>[[[1, 3], [17, 17], [88, 88]], [[11, 12], [38,...</td>\n",
              "      <td>[[A, domain, independent, model, is, proposed,...</td>\n",
              "      <td>[[[1, 3, Method], [8, 12, Task], [11, 12, Othe...</td>\n",
              "      <td>[[[1, 3, 8, 12, USED-FOR], [14, 14, 11, 12, FE...</td>\n",
              "      <td>C96-1062</td>\n",
              "    </tr>\n",
              "    <tr>\n",
              "      <th>...</th>\n",
              "      <td>...</td>\n",
              "      <td>...</td>\n",
              "      <td>...</td>\n",
              "      <td>...</td>\n",
              "      <td>...</td>\n",
              "    </tr>\n",
              "    <tr>\n",
              "      <th>95</th>\n",
              "      <td>[[[7, 11], [38, 39]], [[3, 3], [43, 43], [85, ...</td>\n",
              "      <td>[[We, introduce, a, method, to, accelerate, th...</td>\n",
              "      <td>[[[3, 3, Generic], [7, 11, Task], [17, 18, Met...</td>\n",
              "      <td>[[[3, 3, 7, 11, USED-FOR], [17, 18, 3, 3, USED...</td>\n",
              "      <td>CVPR_2010_30_abs</td>\n",
              "    </tr>\n",
              "    <tr>\n",
              "      <th>96</th>\n",
              "      <td>[[[57, 57], [120, 120]], [[30, 30], [65, 65]]]</td>\n",
              "      <td>[[Background, modeling, is, an, important, com...</td>\n",
              "      <td>[[[0, 1, Task], [8, 9, Task]], [[23, 26, Other...</td>\n",
              "      <td>[[[0, 1, 8, 9, PART-OF]], [], [[33, 35, 30, 30...</td>\n",
              "      <td>CVPR_2004_30_abs</td>\n",
              "    </tr>\n",
              "    <tr>\n",
              "      <th>97</th>\n",
              "      <td>[]</td>\n",
              "      <td>[[Information, distillation, aims, to, extract...</td>\n",
              "      <td>[[[0, 1, Task], [15, 24, Material]], [[36, 38,...</td>\n",
              "      <td>[[], [[36, 38, 41, 44, USED-FOR]], [], []]</td>\n",
              "      <td>INTERSPEECH_2007_40_abs</td>\n",
              "    </tr>\n",
              "    <tr>\n",
              "      <th>98</th>\n",
              "      <td>[[[5, 5], [70, 70]]]</td>\n",
              "      <td>[[This, paper, presents, a, novel, representat...</td>\n",
              "      <td>[[[5, 5, Generic], [7, 8, OtherScientificTerm]...</td>\n",
              "      <td>[[[5, 5, 7, 8, USED-FOR], [12, 14, 7, 8, FEATU...</td>\n",
              "      <td>CVPR_2003_30_abs</td>\n",
              "    </tr>\n",
              "    <tr>\n",
              "      <th>99</th>\n",
              "      <td>[[[3, 8], [56, 57]], [[22, 22], [45, 45]], [[6...</td>\n",
              "      <td>[[Fast, algorithms, for, nearest, neighbor, -L...</td>\n",
              "      <td>[[[0, 1, Generic], [3, 8, Task], [16, 16, Othe...</td>\n",
              "      <td>[[[0, 1, 3, 8, USED-FOR]], [[22, 22, 24, 25, U...</td>\n",
              "      <td>NIPS_2016_80_abs</td>\n",
              "    </tr>\n",
              "  </tbody>\n",
              "</table>\n",
              "<p>100 rows × 5 columns</p>\n",
              "</div>\n",
              "      <button class=\"colab-df-convert\" onclick=\"convertToInteractive('df-7a4cd3cc-84e3-4de8-a34e-550efeaabcc6')\"\n",
              "              title=\"Convert this dataframe to an interactive table.\"\n",
              "              style=\"display:none;\">\n",
              "        \n",
              "  <svg xmlns=\"http://www.w3.org/2000/svg\" height=\"24px\"viewBox=\"0 0 24 24\"\n",
              "       width=\"24px\">\n",
              "    <path d=\"M0 0h24v24H0V0z\" fill=\"none\"/>\n",
              "    <path d=\"M18.56 5.44l.94 2.06.94-2.06 2.06-.94-2.06-.94-.94-2.06-.94 2.06-2.06.94zm-11 1L8.5 8.5l.94-2.06 2.06-.94-2.06-.94L8.5 2.5l-.94 2.06-2.06.94zm10 10l.94 2.06.94-2.06 2.06-.94-2.06-.94-.94-2.06-.94 2.06-2.06.94z\"/><path d=\"M17.41 7.96l-1.37-1.37c-.4-.4-.92-.59-1.43-.59-.52 0-1.04.2-1.43.59L10.3 9.45l-7.72 7.72c-.78.78-.78 2.05 0 2.83L4 21.41c.39.39.9.59 1.41.59.51 0 1.02-.2 1.41-.59l7.78-7.78 2.81-2.81c.8-.78.8-2.07 0-2.86zM5.41 20L4 18.59l7.72-7.72 1.47 1.35L5.41 20z\"/>\n",
              "  </svg>\n",
              "      </button>\n",
              "      \n",
              "  <style>\n",
              "    .colab-df-container {\n",
              "      display:flex;\n",
              "      flex-wrap:wrap;\n",
              "      gap: 12px;\n",
              "    }\n",
              "\n",
              "    .colab-df-convert {\n",
              "      background-color: #E8F0FE;\n",
              "      border: none;\n",
              "      border-radius: 50%;\n",
              "      cursor: pointer;\n",
              "      display: none;\n",
              "      fill: #1967D2;\n",
              "      height: 32px;\n",
              "      padding: 0 0 0 0;\n",
              "      width: 32px;\n",
              "    }\n",
              "\n",
              "    .colab-df-convert:hover {\n",
              "      background-color: #E2EBFA;\n",
              "      box-shadow: 0px 1px 2px rgba(60, 64, 67, 0.3), 0px 1px 3px 1px rgba(60, 64, 67, 0.15);\n",
              "      fill: #174EA6;\n",
              "    }\n",
              "\n",
              "    [theme=dark] .colab-df-convert {\n",
              "      background-color: #3B4455;\n",
              "      fill: #D2E3FC;\n",
              "    }\n",
              "\n",
              "    [theme=dark] .colab-df-convert:hover {\n",
              "      background-color: #434B5C;\n",
              "      box-shadow: 0px 1px 3px 1px rgba(0, 0, 0, 0.15);\n",
              "      filter: drop-shadow(0px 1px 2px rgba(0, 0, 0, 0.3));\n",
              "      fill: #FFFFFF;\n",
              "    }\n",
              "  </style>\n",
              "\n",
              "      <script>\n",
              "        const buttonEl =\n",
              "          document.querySelector('#df-7a4cd3cc-84e3-4de8-a34e-550efeaabcc6 button.colab-df-convert');\n",
              "        buttonEl.style.display =\n",
              "          google.colab.kernel.accessAllowed ? 'block' : 'none';\n",
              "\n",
              "        async function convertToInteractive(key) {\n",
              "          const element = document.querySelector('#df-7a4cd3cc-84e3-4de8-a34e-550efeaabcc6');\n",
              "          const dataTable =\n",
              "            await google.colab.kernel.invokeFunction('convertToInteractive',\n",
              "                                                     [key], {});\n",
              "          if (!dataTable) return;\n",
              "\n",
              "          const docLinkHtml = 'Like what you see? Visit the ' +\n",
              "            '<a target=\"_blank\" href=https://colab.research.google.com/notebooks/data_table.ipynb>data table notebook</a>'\n",
              "            + ' to learn more about interactive tables.';\n",
              "          element.innerHTML = '';\n",
              "          dataTable['output_type'] = 'display_data';\n",
              "          await google.colab.output.renderOutput(dataTable, element);\n",
              "          const docLink = document.createElement('div');\n",
              "          docLink.innerHTML = docLinkHtml;\n",
              "          element.appendChild(docLink);\n",
              "        }\n",
              "      </script>\n",
              "    </div>\n",
              "  </div>\n",
              "  "
            ]
          },
          "metadata": {},
          "execution_count": 6
        }
      ]
    },
    {
      "cell_type": "code",
      "source": [
        "processed_sentence_list = []\n",
        "processed_entity_list = []\n",
        "for index, row in df_test.iterrows():\n",
        "  abstract = [\" \".join(i) for i in row[\"sentences\"]]\n",
        "  abstract = \" \".join(abstract)\n",
        "  abstract_list = [item for sublist in row[\"sentences\"] for item in sublist]\n",
        "  \n",
        "  for num in range(len(row[\"sentences\"])):\n",
        "    sentence = row[\"sentences\"][num]\n",
        "    entity_list = row['ner'][num]\n",
        "    if entity_list is not None and len(entity_list) != 0:\n",
        "      text = \" \".join(sentence)\n",
        "      updated_entity_list = []\n",
        "      # entity_list = entity_list.pop()\n",
        "      for i in entity_list:\n",
        "        if type(i) == list and len(i) == 3:\n",
        "          (start, end, label) = i\n",
        "          phrase = \" \".join(abstract_list[start:end+1])\n",
        "          phrase = phrase\n",
        "          if phrase in text:\n",
        "            updated_entity_list.append((phrase, label))\n",
        "      entity = [tuple(sublist)for sublist in updated_entity_list]\n",
        "      processed_sentence_list.append(text)\n",
        "\n",
        "      processed_entity_list.append(entity)\n",
        "\n",
        "print(len(processed_sentence_list))\n",
        "print(len(processed_entity_list))"
      ],
      "metadata": {
        "colab": {
          "base_uri": "https://localhost:8080/"
        },
        "id": "KKH03a5yEkfj",
        "outputId": "f4708391-33ae-4521-9685-9286359e7168"
      },
      "execution_count": 7,
      "outputs": [
        {
          "output_type": "stream",
          "name": "stdout",
          "text": [
            "529\n",
            "529\n"
          ]
        }
      ]
    },
    {
      "cell_type": "code",
      "source": [
        "Entity = namedtuple(\"Entity\", \"e_type start_offset end_offset\")"
      ],
      "metadata": {
        "id": "ViJDRga0f0nM"
      },
      "execution_count": 8,
      "outputs": []
    },
    {
      "cell_type": "code",
      "source": [
        "def find_index_sub_list(sl,l):\n",
        "    sll=len(sl)\n",
        "    for ind in (i for i,e in enumerate(l) if e==sl[0]):\n",
        "        if l[ind:ind+sll]==sl:\n",
        "            return ind,ind+sll-1"
      ],
      "metadata": {
        "id": "VmoBe7CpHYwW"
      },
      "execution_count": 9,
      "outputs": []
    },
    {
      "cell_type": "markdown",
      "source": [
        "# Generate predictions (extracted concepts)"
      ],
      "metadata": {
        "id": "_VZA8hUTPrlL"
      }
    },
    {
      "cell_type": "code",
      "execution_count": 11,
      "metadata": {
        "id": "OlhC9JcXeKvY"
      },
      "outputs": [],
      "source": [
        "import spacy\n",
        "import spacy_transformers\n",
        "\n",
        "nlp = spacy.load(\"/content/drive/MyDrive/fine-turning-dataset/sciNER_fineturn/sciBERT/model-best\")"
      ]
    },
    {
      "cell_type": "code",
      "source": [
        "from tqdm import tqdm\n",
        "\n",
        "predicted_entities = []\n",
        "correct_entities = []\n",
        "\n",
        "for index in tqdm(range(len(processed_sentence_list))):\n",
        "  sentence = processed_sentence_list[index]\n",
        "\n",
        "  sub_predicted_entities = []\n",
        "  sub_correct_entities = []\n",
        "\n",
        "  # generate predictions\n",
        "  output = nlp(sentence)\n",
        "  extracted_entities = [(ent.text, ent.label_) for ent in output.ents] \n",
        "  \n",
        "  # process predicted entity list\n",
        "  for entity in extracted_entities:\n",
        "    if entity != None:\n",
        "      (text, label) = entity\n",
        "      if text != None and label != None:\n",
        "        try:\n",
        "          start_index, end_index = find_index_sub_list(text.split(), sentence.split())\n",
        "          sub_predicted_entities.append(Entity(label, start_index, end_index))\n",
        "        except:\n",
        "          continue\n",
        "  \n",
        "  # process true labeled entity list\n",
        "  for entity in processed_entity_list[index]:\n",
        "    if entity != None:\n",
        "      (text, label) = entity\n",
        "      start_index, end_index = find_index_sub_list(text.split(), sentence.split())\n",
        "      sub_correct_entities.append(Entity(label, start_index, end_index))\n",
        "  \n",
        "  predicted_entities.append(sub_predicted_entities)\n",
        "  correct_entities.append(sub_correct_entities)\n"
      ],
      "metadata": {
        "colab": {
          "base_uri": "https://localhost:8080/"
        },
        "id": "R3cUY4ioJmqu",
        "outputId": "f7a578c4-c7d4-4d16-d17b-ed20e628da66"
      },
      "execution_count": 17,
      "outputs": [
        {
          "output_type": "stream",
          "name": "stderr",
          "text": [
            "100%|██████████| 529/529 [00:48<00:00, 10.93it/s]\n"
          ]
        }
      ]
    },
    {
      "cell_type": "code",
      "source": [
        "print(len(predicted_entities))\n",
        "print(len(correct_entities))"
      ],
      "metadata": {
        "colab": {
          "base_uri": "https://localhost:8080/"
        },
        "id": "_ThBN8bcLbhS",
        "outputId": "c400ec94-9813-459c-fe2f-53019a4b7a2a"
      },
      "execution_count": 18,
      "outputs": [
        {
          "output_type": "stream",
          "name": "stdout",
          "text": [
            "529\n",
            "529\n"
          ]
        }
      ]
    },
    {
      "cell_type": "markdown",
      "source": [
        "# Evaluation"
      ],
      "metadata": {
        "id": "H5K2DIVuPxhf"
      }
    },
    {
      "cell_type": "code",
      "source": [
        "tags = ['Task', \"Method\", \"Material\", \"EvaluationMatric\", \"OtherScientificTerm\", \"Generic\"]\n",
        "\n",
        "metrics_results = {'correct': 0, 'incorrect': 0, 'partial': 0,\n",
        "                   'missed': 0, 'spurious': 0, 'possible': 0, 'actual': 0, 'precision': 0, 'recall': 0}\n",
        "\n",
        "# overall results\n",
        "results = {'strict': deepcopy(metrics_results),\n",
        "           'ent_type': deepcopy(metrics_results),\n",
        "           'partial':deepcopy(metrics_results),\n",
        "           'exact':deepcopy(metrics_results)\n",
        "          }\n",
        "\n",
        "# results aggregated by entity type\n",
        "evaluation_agg_entities_type = {e: deepcopy(results) for e in tags}\n",
        "\n",
        "for true_ents, pred_ents in zip(correct_entities, predicted_entities):\n",
        "  \n",
        "  # compute results for one message\n",
        "  tmp_results, tmp_agg_results = compute_metrics(true_ents, pred_ents, tags)\n",
        "\n",
        "  # aggregate overall results\n",
        "  for eval_schema in results.keys():\n",
        "    for metric in metrics_results.keys():\n",
        "        results[eval_schema][metric] += tmp_results[eval_schema][metric]\n",
        "  \n",
        "  # Calculate global precision and recall\n",
        "  results = compute_precision_recall_wrapper(results)"
      ],
      "metadata": {
        "id": "I5AduChDMN1c"
      },
      "execution_count": 25,
      "outputs": []
    },
    {
      "cell_type": "code",
      "source": [
        "results"
      ],
      "metadata": {
        "colab": {
          "base_uri": "https://localhost:8080/"
        },
        "id": "UzN5R9-_axRS",
        "outputId": "42095df5-8ec2-42c1-a491-d02317eba0b1"
      },
      "execution_count": 26,
      "outputs": [
        {
          "output_type": "execute_result",
          "data": {
            "text/plain": [
              "{'ent_type': {'correct': 784,\n",
              "  'incorrect': 433,\n",
              "  'partial': 0,\n",
              "  'missed': 418,\n",
              "  'spurious': 278,\n",
              "  'possible': 1635,\n",
              "  'actual': 1495,\n",
              "  'precision': 0.5244147157190635,\n",
              "  'recall': 0.4795107033639144},\n",
              " 'partial': {'correct': 1007,\n",
              "  'incorrect': 0,\n",
              "  'partial': 210,\n",
              "  'missed': 418,\n",
              "  'spurious': 278,\n",
              "  'possible': 1635,\n",
              "  'actual': 1495,\n",
              "  'precision': 0.7438127090301003,\n",
              "  'recall': 0.6801223241590214},\n",
              " 'strict': {'correct': 686,\n",
              "  'incorrect': 531,\n",
              "  'partial': 0,\n",
              "  'missed': 418,\n",
              "  'spurious': 278,\n",
              "  'possible': 1635,\n",
              "  'actual': 1495,\n",
              "  'precision': 0.4588628762541806,\n",
              "  'recall': 0.41957186544342506},\n",
              " 'exact': {'correct': 1007,\n",
              "  'incorrect': 210,\n",
              "  'partial': 0,\n",
              "  'missed': 418,\n",
              "  'spurious': 278,\n",
              "  'possible': 1635,\n",
              "  'actual': 1495,\n",
              "  'precision': 0.6735785953177258,\n",
              "  'recall': 0.6159021406727829}}"
            ]
          },
          "metadata": {},
          "execution_count": 26
        }
      ]
    }
  ]
}