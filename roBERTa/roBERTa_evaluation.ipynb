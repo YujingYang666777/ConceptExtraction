{
  "cells": [
    {
      "cell_type": "code",
      "execution_count": 1,
      "metadata": {
        "colab": {
          "base_uri": "https://localhost:8080/"
        },
        "id": "ZansVDRYeXR7",
        "outputId": "51601437-ec46-414f-f942-c03939cb1317"
      },
      "outputs": [
        {
          "name": "stdout",
          "output_type": "stream",
          "text": [
            "Mounted at /content/drive\n"
          ]
        }
      ],
      "source": [
        "from google.colab import drive\n",
        "drive.mount('/content/drive')"
      ]
    },
    {
      "cell_type": "code",
      "execution_count": null,
      "metadata": {
        "id": "mO3eYUiOA5K0"
      },
      "outputs": [],
      "source": [
        "!pip install scispacy\n",
        "!pip install spacy-transformers\n",
        "!python -m spacy download en_core_web_trf\n",
        "!pip install https://s3-us-west-2.amazonaws.com/ai2-s2-scispacy/releases/v0.5.1/en_core_sci_scibert-0.5.1.tar.gz"
      ]
    },
    {
      "cell_type": "code",
      "execution_count": null,
      "metadata": {
        "id": "9ejLTWY8esWJ"
      },
      "outputs": [],
      "source": [
        "!pip3 install scikit-learn==0.23.2\n",
        "!pip3 install nltk\n",
        "!pip3 install sklearn_crfsuite"
      ]
    },
    {
      "cell_type": "code",
      "execution_count": 4,
      "metadata": {
        "colab": {
          "base_uri": "https://localhost:8080/"
        },
        "id": "JA7VvgyifJtN",
        "outputId": "44da18fe-e636-4a07-86d8-89b960d065f5"
      },
      "outputs": [
        {
          "name": "stdout",
          "output_type": "stream",
          "text": [
            "Cloning into 'NER-Evaluation'...\n",
            "remote: Enumerating objects: 234, done.\u001b[K\n",
            "remote: Counting objects: 100% (4/4), done.\u001b[K\n",
            "remote: Compressing objects: 100% (4/4), done.\u001b[K\n",
            "remote: Total 234 (delta 0), reused 2 (delta 0), pack-reused 230\u001b[K\n",
            "Receiving objects: 100% (234/234), 82.22 KiB | 20.55 MiB/s, done.\n",
            "Resolving deltas: 100% (117/117), done.\n"
          ]
        }
      ],
      "source": [
        "!git clone https://github.com/davidsbatista/NER-Evaluation.git"
      ]
    },
    {
      "cell_type": "code",
      "execution_count": 6,
      "metadata": {
        "id": "d94HfKkaeiLi"
      },
      "outputs": [],
      "source": [
        "import nltk\n",
        "import sklearn_crfsuite\n",
        "\n",
        "from copy import deepcopy\n",
        "from collections import defaultdict\n",
        "import pandas as pd\n",
        "\n",
        "from sklearn_crfsuite.metrics import flat_classification_report\n",
        "\n",
        "from NER_Evaluation.ner_evaluation.ner_eval import collect_named_entities\n",
        "from NER_Evaluation.ner_evaluation.ner_eval import compute_metrics\n",
        "from NER_Evaluation.ner_evaluation.ner_eval import compute_precision_recall_wrapper\n",
        "from NER_Evaluation.ner_evaluation.ner_eval import namedtuple\n",
        "from NER_Evaluation.ner_evaluation.ner_eval import compute_precision_recall\n",
        "from NER_Evaluation.ner_evaluation.ner_eval import Evaluator"
      ]
    },
    {
      "cell_type": "markdown",
      "metadata": {
        "id": "zHHTi7HYEFSH"
      },
      "source": [
        "# Preprocess test data"
      ]
    },
    {
      "cell_type": "code",
      "execution_count": 7,
      "metadata": {
        "colab": {
          "base_uri": "https://localhost:8080/",
          "height": 641
        },
        "id": "dwecO6neEIiz",
        "outputId": "c748b372-f315-47aa-9c0f-fecd22b01e81"
      },
      "outputs": [
        {
          "data": {
            "text/html": [
              "\n",
              "  <div id=\"df-9de00137-c615-49df-bce6-b6738703c367\">\n",
              "    <div class=\"colab-df-container\">\n",
              "      <div>\n",
              "<style scoped>\n",
              "    .dataframe tbody tr th:only-of-type {\n",
              "        vertical-align: middle;\n",
              "    }\n",
              "\n",
              "    .dataframe tbody tr th {\n",
              "        vertical-align: top;\n",
              "    }\n",
              "\n",
              "    .dataframe thead th {\n",
              "        text-align: right;\n",
              "    }\n",
              "</style>\n",
              "<table border=\"1\" class=\"dataframe\">\n",
              "  <thead>\n",
              "    <tr style=\"text-align: right;\">\n",
              "      <th></th>\n",
              "      <th>clusters</th>\n",
              "      <th>sentences</th>\n",
              "      <th>ner</th>\n",
              "      <th>relations</th>\n",
              "      <th>doc_key</th>\n",
              "    </tr>\n",
              "  </thead>\n",
              "  <tbody>\n",
              "    <tr>\n",
              "      <th>0</th>\n",
              "      <td>[[[59, 64], [73, 73]], [[0, 3], [34, 34]], [[5...</td>\n",
              "      <td>[[Recognition, of, proper, nouns, in, Japanese...</td>\n",
              "      <td>[[[0, 3, Task], [2, 3, OtherScientificTerm], [...</td>\n",
              "      <td>[[[0, 3, 19, 20, PART-OF], [2, 3, 5, 6, PART-O...</td>\n",
              "      <td>X96-1059</td>\n",
              "    </tr>\n",
              "    <tr>\n",
              "      <th>1</th>\n",
              "      <td>[[[83, 86], [102, 102], [129, 129]], [[75, 75]...</td>\n",
              "      <td>[[We, propose, to, incorporate, a, priori, geo...</td>\n",
              "      <td>[[[5, 7, OtherScientificTerm], [10, 15, Method...</td>\n",
              "      <td>[[[5, 7, 10, 15, PART-OF], [23, 24, 32, 35, US...</td>\n",
              "      <td>ICCV_2001_47_abs</td>\n",
              "    </tr>\n",
              "    <tr>\n",
              "      <th>2</th>\n",
              "      <td>[[[74, 77], [85, 85]], [[60, 60], [65, 65]]]</td>\n",
              "      <td>[[This, work, proposes, a, new, research, dire...</td>\n",
              "      <td>[[[10, 12, OtherScientificTerm], [10, 16, Task...</td>\n",
              "      <td>[[], [[23, 26, 30, 31, USED-FOR]], [[47, 48, 5...</td>\n",
              "      <td>INTERSPEECH_2013_21_abs</td>\n",
              "    </tr>\n",
              "    <tr>\n",
              "      <th>3</th>\n",
              "      <td>[[[18, 21], [44, 44]], [[46, 46], [49, 49], [8...</td>\n",
              "      <td>[[Listen-Communicate-Show, -LRB-, LCS, -RRB-, ...</td>\n",
              "      <td>[[[0, 3, Task], [9, 13, Task]], [[18, 21, Meth...</td>\n",
              "      <td>[[[0, 3, 9, 13, USED-FOR]], [[23, 25, 18, 21, ...</td>\n",
              "      <td>H01-1049</td>\n",
              "    </tr>\n",
              "    <tr>\n",
              "      <th>4</th>\n",
              "      <td>[[[1, 3], [17, 17], [88, 88]], [[11, 12], [38,...</td>\n",
              "      <td>[[A, domain, independent, model, is, proposed,...</td>\n",
              "      <td>[[[1, 3, Method], [8, 12, Task], [11, 12, Othe...</td>\n",
              "      <td>[[[1, 3, 8, 12, USED-FOR], [14, 14, 11, 12, FE...</td>\n",
              "      <td>C96-1062</td>\n",
              "    </tr>\n",
              "    <tr>\n",
              "      <th>...</th>\n",
              "      <td>...</td>\n",
              "      <td>...</td>\n",
              "      <td>...</td>\n",
              "      <td>...</td>\n",
              "      <td>...</td>\n",
              "    </tr>\n",
              "    <tr>\n",
              "      <th>95</th>\n",
              "      <td>[[[7, 11], [38, 39]], [[3, 3], [43, 43], [85, ...</td>\n",
              "      <td>[[We, introduce, a, method, to, accelerate, th...</td>\n",
              "      <td>[[[3, 3, Generic], [7, 11, Task], [17, 18, Met...</td>\n",
              "      <td>[[[3, 3, 7, 11, USED-FOR], [17, 18, 3, 3, USED...</td>\n",
              "      <td>CVPR_2010_30_abs</td>\n",
              "    </tr>\n",
              "    <tr>\n",
              "      <th>96</th>\n",
              "      <td>[[[57, 57], [120, 120]], [[30, 30], [65, 65]]]</td>\n",
              "      <td>[[Background, modeling, is, an, important, com...</td>\n",
              "      <td>[[[0, 1, Task], [8, 9, Task]], [[23, 26, Other...</td>\n",
              "      <td>[[[0, 1, 8, 9, PART-OF]], [], [[33, 35, 30, 30...</td>\n",
              "      <td>CVPR_2004_30_abs</td>\n",
              "    </tr>\n",
              "    <tr>\n",
              "      <th>97</th>\n",
              "      <td>[]</td>\n",
              "      <td>[[Information, distillation, aims, to, extract...</td>\n",
              "      <td>[[[0, 1, Task], [15, 24, Material]], [[36, 38,...</td>\n",
              "      <td>[[], [[36, 38, 41, 44, USED-FOR]], [], []]</td>\n",
              "      <td>INTERSPEECH_2007_40_abs</td>\n",
              "    </tr>\n",
              "    <tr>\n",
              "      <th>98</th>\n",
              "      <td>[[[5, 5], [70, 70]]]</td>\n",
              "      <td>[[This, paper, presents, a, novel, representat...</td>\n",
              "      <td>[[[5, 5, Generic], [7, 8, OtherScientificTerm]...</td>\n",
              "      <td>[[[5, 5, 7, 8, USED-FOR], [12, 14, 7, 8, FEATU...</td>\n",
              "      <td>CVPR_2003_30_abs</td>\n",
              "    </tr>\n",
              "    <tr>\n",
              "      <th>99</th>\n",
              "      <td>[[[3, 8], [56, 57]], [[22, 22], [45, 45]], [[6...</td>\n",
              "      <td>[[Fast, algorithms, for, nearest, neighbor, -L...</td>\n",
              "      <td>[[[0, 1, Generic], [3, 8, Task], [16, 16, Othe...</td>\n",
              "      <td>[[[0, 1, 3, 8, USED-FOR]], [[22, 22, 24, 25, U...</td>\n",
              "      <td>NIPS_2016_80_abs</td>\n",
              "    </tr>\n",
              "  </tbody>\n",
              "</table>\n",
              "<p>100 rows × 5 columns</p>\n",
              "</div>\n",
              "      <button class=\"colab-df-convert\" onclick=\"convertToInteractive('df-9de00137-c615-49df-bce6-b6738703c367')\"\n",
              "              title=\"Convert this dataframe to an interactive table.\"\n",
              "              style=\"display:none;\">\n",
              "        \n",
              "  <svg xmlns=\"http://www.w3.org/2000/svg\" height=\"24px\"viewBox=\"0 0 24 24\"\n",
              "       width=\"24px\">\n",
              "    <path d=\"M0 0h24v24H0V0z\" fill=\"none\"/>\n",
              "    <path d=\"M18.56 5.44l.94 2.06.94-2.06 2.06-.94-2.06-.94-.94-2.06-.94 2.06-2.06.94zm-11 1L8.5 8.5l.94-2.06 2.06-.94-2.06-.94L8.5 2.5l-.94 2.06-2.06.94zm10 10l.94 2.06.94-2.06 2.06-.94-2.06-.94-.94-2.06-.94 2.06-2.06.94z\"/><path d=\"M17.41 7.96l-1.37-1.37c-.4-.4-.92-.59-1.43-.59-.52 0-1.04.2-1.43.59L10.3 9.45l-7.72 7.72c-.78.78-.78 2.05 0 2.83L4 21.41c.39.39.9.59 1.41.59.51 0 1.02-.2 1.41-.59l7.78-7.78 2.81-2.81c.8-.78.8-2.07 0-2.86zM5.41 20L4 18.59l7.72-7.72 1.47 1.35L5.41 20z\"/>\n",
              "  </svg>\n",
              "      </button>\n",
              "      \n",
              "  <style>\n",
              "    .colab-df-container {\n",
              "      display:flex;\n",
              "      flex-wrap:wrap;\n",
              "      gap: 12px;\n",
              "    }\n",
              "\n",
              "    .colab-df-convert {\n",
              "      background-color: #E8F0FE;\n",
              "      border: none;\n",
              "      border-radius: 50%;\n",
              "      cursor: pointer;\n",
              "      display: none;\n",
              "      fill: #1967D2;\n",
              "      height: 32px;\n",
              "      padding: 0 0 0 0;\n",
              "      width: 32px;\n",
              "    }\n",
              "\n",
              "    .colab-df-convert:hover {\n",
              "      background-color: #E2EBFA;\n",
              "      box-shadow: 0px 1px 2px rgba(60, 64, 67, 0.3), 0px 1px 3px 1px rgba(60, 64, 67, 0.15);\n",
              "      fill: #174EA6;\n",
              "    }\n",
              "\n",
              "    [theme=dark] .colab-df-convert {\n",
              "      background-color: #3B4455;\n",
              "      fill: #D2E3FC;\n",
              "    }\n",
              "\n",
              "    [theme=dark] .colab-df-convert:hover {\n",
              "      background-color: #434B5C;\n",
              "      box-shadow: 0px 1px 3px 1px rgba(0, 0, 0, 0.15);\n",
              "      filter: drop-shadow(0px 1px 2px rgba(0, 0, 0, 0.3));\n",
              "      fill: #FFFFFF;\n",
              "    }\n",
              "  </style>\n",
              "\n",
              "      <script>\n",
              "        const buttonEl =\n",
              "          document.querySelector('#df-9de00137-c615-49df-bce6-b6738703c367 button.colab-df-convert');\n",
              "        buttonEl.style.display =\n",
              "          google.colab.kernel.accessAllowed ? 'block' : 'none';\n",
              "\n",
              "        async function convertToInteractive(key) {\n",
              "          const element = document.querySelector('#df-9de00137-c615-49df-bce6-b6738703c367');\n",
              "          const dataTable =\n",
              "            await google.colab.kernel.invokeFunction('convertToInteractive',\n",
              "                                                     [key], {});\n",
              "          if (!dataTable) return;\n",
              "\n",
              "          const docLinkHtml = 'Like what you see? Visit the ' +\n",
              "            '<a target=\"_blank\" href=https://colab.research.google.com/notebooks/data_table.ipynb>data table notebook</a>'\n",
              "            + ' to learn more about interactive tables.';\n",
              "          element.innerHTML = '';\n",
              "          dataTable['output_type'] = 'display_data';\n",
              "          await google.colab.output.renderOutput(dataTable, element);\n",
              "          const docLink = document.createElement('div');\n",
              "          docLink.innerHTML = docLinkHtml;\n",
              "          element.appendChild(docLink);\n",
              "        }\n",
              "      </script>\n",
              "    </div>\n",
              "  </div>\n",
              "  "
            ],
            "text/plain": [
              "                                             clusters  \\\n",
              "0   [[[59, 64], [73, 73]], [[0, 3], [34, 34]], [[5...   \n",
              "1   [[[83, 86], [102, 102], [129, 129]], [[75, 75]...   \n",
              "2        [[[74, 77], [85, 85]], [[60, 60], [65, 65]]]   \n",
              "3   [[[18, 21], [44, 44]], [[46, 46], [49, 49], [8...   \n",
              "4   [[[1, 3], [17, 17], [88, 88]], [[11, 12], [38,...   \n",
              "..                                                ...   \n",
              "95  [[[7, 11], [38, 39]], [[3, 3], [43, 43], [85, ...   \n",
              "96     [[[57, 57], [120, 120]], [[30, 30], [65, 65]]]   \n",
              "97                                                 []   \n",
              "98                               [[[5, 5], [70, 70]]]   \n",
              "99  [[[3, 8], [56, 57]], [[22, 22], [45, 45]], [[6...   \n",
              "\n",
              "                                            sentences  \\\n",
              "0   [[Recognition, of, proper, nouns, in, Japanese...   \n",
              "1   [[We, propose, to, incorporate, a, priori, geo...   \n",
              "2   [[This, work, proposes, a, new, research, dire...   \n",
              "3   [[Listen-Communicate-Show, -LRB-, LCS, -RRB-, ...   \n",
              "4   [[A, domain, independent, model, is, proposed,...   \n",
              "..                                                ...   \n",
              "95  [[We, introduce, a, method, to, accelerate, th...   \n",
              "96  [[Background, modeling, is, an, important, com...   \n",
              "97  [[Information, distillation, aims, to, extract...   \n",
              "98  [[This, paper, presents, a, novel, representat...   \n",
              "99  [[Fast, algorithms, for, nearest, neighbor, -L...   \n",
              "\n",
              "                                                  ner  \\\n",
              "0   [[[0, 3, Task], [2, 3, OtherScientificTerm], [...   \n",
              "1   [[[5, 7, OtherScientificTerm], [10, 15, Method...   \n",
              "2   [[[10, 12, OtherScientificTerm], [10, 16, Task...   \n",
              "3   [[[0, 3, Task], [9, 13, Task]], [[18, 21, Meth...   \n",
              "4   [[[1, 3, Method], [8, 12, Task], [11, 12, Othe...   \n",
              "..                                                ...   \n",
              "95  [[[3, 3, Generic], [7, 11, Task], [17, 18, Met...   \n",
              "96  [[[0, 1, Task], [8, 9, Task]], [[23, 26, Other...   \n",
              "97  [[[0, 1, Task], [15, 24, Material]], [[36, 38,...   \n",
              "98  [[[5, 5, Generic], [7, 8, OtherScientificTerm]...   \n",
              "99  [[[0, 1, Generic], [3, 8, Task], [16, 16, Othe...   \n",
              "\n",
              "                                            relations                  doc_key  \n",
              "0   [[[0, 3, 19, 20, PART-OF], [2, 3, 5, 6, PART-O...                 X96-1059  \n",
              "1   [[[5, 7, 10, 15, PART-OF], [23, 24, 32, 35, US...         ICCV_2001_47_abs  \n",
              "2   [[], [[23, 26, 30, 31, USED-FOR]], [[47, 48, 5...  INTERSPEECH_2013_21_abs  \n",
              "3   [[[0, 3, 9, 13, USED-FOR]], [[23, 25, 18, 21, ...                 H01-1049  \n",
              "4   [[[1, 3, 8, 12, USED-FOR], [14, 14, 11, 12, FE...                 C96-1062  \n",
              "..                                                ...                      ...  \n",
              "95  [[[3, 3, 7, 11, USED-FOR], [17, 18, 3, 3, USED...         CVPR_2010_30_abs  \n",
              "96  [[[0, 1, 8, 9, PART-OF]], [], [[33, 35, 30, 30...         CVPR_2004_30_abs  \n",
              "97         [[], [[36, 38, 41, 44, USED-FOR]], [], []]  INTERSPEECH_2007_40_abs  \n",
              "98  [[[5, 5, 7, 8, USED-FOR], [12, 14, 7, 8, FEATU...         CVPR_2003_30_abs  \n",
              "99  [[[0, 1, 3, 8, USED-FOR]], [[22, 22, 24, 25, U...         NIPS_2016_80_abs  \n",
              "\n",
              "[100 rows x 5 columns]"
            ]
          },
          "execution_count": 7,
          "metadata": {},
          "output_type": "execute_result"
        }
      ],
      "source": [
        "test_data_path = \"/content/drive/MyDrive/fine-turning-dataset/sciNER/test.json\"\n",
        "df_test = pd.read_json(test_data_path, lines=True)\n",
        "df_test"
      ]
    },
    {
      "cell_type": "code",
      "execution_count": 8,
      "metadata": {
        "colab": {
          "base_uri": "https://localhost:8080/"
        },
        "id": "KKH03a5yEkfj",
        "outputId": "53d45098-52f3-485b-f513-a53ff9828d7f"
      },
      "outputs": [
        {
          "name": "stdout",
          "output_type": "stream",
          "text": [
            "529\n",
            "529\n"
          ]
        }
      ],
      "source": [
        "processed_sentence_list = []\n",
        "processed_entity_list = []\n",
        "for index, row in df_test.iterrows():\n",
        "  abstract = [\" \".join(i) for i in row[\"sentences\"]]\n",
        "  abstract = \" \".join(abstract)\n",
        "  abstract_list = [item for sublist in row[\"sentences\"] for item in sublist]\n",
        "  \n",
        "  for num in range(len(row[\"sentences\"])):\n",
        "    sentence = row[\"sentences\"][num]\n",
        "    entity_list = row['ner'][num]\n",
        "    if entity_list is not None and len(entity_list) != 0:\n",
        "      text = \" \".join(sentence)\n",
        "      updated_entity_list = []\n",
        "      # entity_list = entity_list.pop()\n",
        "      for i in entity_list:\n",
        "        if type(i) == list and len(i) == 3:\n",
        "          (start, end, label) = i\n",
        "          phrase = \" \".join(abstract_list[start:end+1])\n",
        "          phrase = phrase\n",
        "          if phrase in text:\n",
        "            updated_entity_list.append((phrase, label))\n",
        "      entity = [tuple(sublist)for sublist in updated_entity_list]\n",
        "      processed_sentence_list.append(text)\n",
        "\n",
        "      processed_entity_list.append(entity)\n",
        "\n",
        "print(len(processed_sentence_list))\n",
        "print(len(processed_entity_list))"
      ]
    },
    {
      "cell_type": "code",
      "execution_count": 10,
      "metadata": {
        "id": "VmoBe7CpHYwW"
      },
      "outputs": [],
      "source": [
        "def find_index_sub_list(sl,l):\n",
        "    sll=len(sl)\n",
        "    for ind in (i for i,e in enumerate(l) if e==sl[0]):\n",
        "        if l[ind:ind+sll]==sl:\n",
        "            return ind,ind+sll-1"
      ]
    },
    {
      "cell_type": "code",
      "execution_count": 16,
      "metadata": {
        "id": "l4WeMDkbdp59"
      },
      "outputs": [],
      "source": [
        "Entity = namedtuple(\"Entity\", \"e_type start_offset end_offset\")"
      ]
    },
    {
      "cell_type": "markdown",
      "metadata": {
        "id": "_VZA8hUTPrlL"
      },
      "source": [
        "# Generate predictions (extracted concepts)"
      ]
    },
    {
      "cell_type": "code",
      "execution_count": 11,
      "metadata": {
        "id": "OlhC9JcXeKvY"
      },
      "outputs": [],
      "source": [
        "import spacy\n",
        "import spacy_transformers\n",
        "\n",
        "nlp = spacy.load(\"/content/drive/MyDrive/fine-turning-dataset/sciNER_fineturn/roBERTa/output/model-best\")"
      ]
    },
    {
      "cell_type": "code",
      "execution_count": 23,
      "metadata": {
        "colab": {
          "base_uri": "https://localhost:8080/"
        },
        "id": "R3cUY4ioJmqu",
        "outputId": "704d5f5b-8724-47b9-d852-a4c72a91ee69"
      },
      "outputs": [
        {
          "name": "stderr",
          "output_type": "stream",
          "text": [
            "100%|██████████| 529/529 [00:44<00:00, 11.93it/s]\n"
          ]
        }
      ],
      "source": [
        "from tqdm import tqdm\n",
        "\n",
        "predicted_entities = []\n",
        "correct_entities = []\n",
        "\n",
        "for index in tqdm(range(len(processed_sentence_list))):\n",
        "  sentence = processed_sentence_list[index]\n",
        "\n",
        "  sub_predicted_entities = []\n",
        "  sub_correct_entities = []\n",
        "\n",
        "  # generate predictions\n",
        "  output = nlp(sentence)\n",
        "  extracted_entities = [(ent.text, ent.label_) for ent in output.ents] \n",
        "  \n",
        "  # process predicted entity list\n",
        "  for entity in extracted_entities:\n",
        "    if entity != None:\n",
        "      (text, label) = entity\n",
        "      if text != None and label != None:\n",
        "        try:\n",
        "          start_index, end_index = find_index_sub_list(text.split(), sentence.split())\n",
        "          sub_predicted_entities.append(Entity(label, start_index, end_index))\n",
        "        except:\n",
        "          continue\n",
        "  \n",
        "  # process true labeled entity list\n",
        "  for entity in processed_entity_list[index]:\n",
        "    if entity != None:\n",
        "      (text, label) = entity\n",
        "      start_index, end_index = find_index_sub_list(text.split(), sentence.split())\n",
        "      sub_correct_entities.append(Entity(label, start_index, end_index))\n",
        "  \n",
        "  predicted_entities.append(sub_predicted_entities)\n",
        "  correct_entities.append(sub_correct_entities)\n"
      ]
    },
    {
      "cell_type": "code",
      "execution_count": 25,
      "metadata": {
        "colab": {
          "base_uri": "https://localhost:8080/"
        },
        "id": "_ThBN8bcLbhS",
        "outputId": "aab36f27-129b-4e1f-e7e8-8d7dd5cc2589"
      },
      "outputs": [
        {
          "name": "stdout",
          "output_type": "stream",
          "text": [
            "529\n",
            "529\n"
          ]
        }
      ],
      "source": [
        "print(len(predicted_entities))\n",
        "print(len(correct_entities))"
      ]
    },
    {
      "cell_type": "markdown",
      "metadata": {
        "id": "H5K2DIVuPxhf"
      },
      "source": [
        "# Evaluation"
      ]
    },
    {
      "cell_type": "code",
      "execution_count": 27,
      "metadata": {
        "id": "hl48nqB9SVUy"
      },
      "outputs": [],
      "source": [
        "tags = ['Task', \"Method\", \"Material\", \"EvaluationMatric\", \"OtherScientificTerm\", \"Generic\"]\n",
        "\n",
        "metrics_results = {'correct': 0, 'incorrect': 0, 'partial': 0,\n",
        "                   'missed': 0, 'spurious': 0, 'possible': 0, 'actual': 0, 'precision': 0, 'recall': 0}\n",
        "\n",
        "# overall results\n",
        "results = {'strict': deepcopy(metrics_results),\n",
        "           'ent_type': deepcopy(metrics_results),\n",
        "           'partial':deepcopy(metrics_results),\n",
        "           'exact':deepcopy(metrics_results)\n",
        "          }\n",
        "\n",
        "# results aggregated by entity type\n",
        "evaluation_agg_entities_type = {e: deepcopy(results) for e in tags}\n",
        "\n",
        "for true_ents, pred_ents in zip(correct_entities, predicted_entities):\n",
        "\n",
        "  # compute results for one message\n",
        "  tmp_results, tmp_agg_results = compute_metrics(true_ents, pred_ents, tags)\n",
        "\n",
        "  # aggregate overall results\n",
        "  for eval_schema in results.keys():\n",
        "    for metric in metrics_results.keys():\n",
        "        results[eval_schema][metric] += tmp_results[eval_schema][metric]\n",
        "  \n",
        "  # Calculate global precision and recall\n",
        "  results = compute_precision_recall_wrapper(results)"
      ]
    },
    {
      "cell_type": "code",
      "execution_count": 28,
      "metadata": {
        "colab": {
          "base_uri": "https://localhost:8080/"
        },
        "id": "X50qhjE-TNce",
        "outputId": "6d65390c-72f7-47d3-e160-0b56339e631d"
      },
      "outputs": [
        {
          "data": {
            "text/plain": [
              "{'ent_type': {'correct': 1136,\n",
              "  'incorrect': 249,\n",
              "  'partial': 0,\n",
              "  'missed': 250,\n",
              "  'spurious': 225,\n",
              "  'possible': 1635,\n",
              "  'actual': 1610,\n",
              "  'precision': 0.7055900621118012,\n",
              "  'recall': 0.6948012232415902},\n",
              " 'partial': {'correct': 1225,\n",
              "  'incorrect': 0,\n",
              "  'partial': 160,\n",
              "  'missed': 250,\n",
              "  'spurious': 225,\n",
              "  'possible': 1635,\n",
              "  'actual': 1610,\n",
              "  'precision': 0.8105590062111802,\n",
              "  'recall': 0.7981651376146789},\n",
              " 'strict': {'correct': 1027,\n",
              "  'incorrect': 358,\n",
              "  'partial': 0,\n",
              "  'missed': 250,\n",
              "  'spurious': 225,\n",
              "  'possible': 1635,\n",
              "  'actual': 1610,\n",
              "  'precision': 0.6378881987577639,\n",
              "  'recall': 0.6281345565749236},\n",
              " 'exact': {'correct': 1225,\n",
              "  'incorrect': 160,\n",
              "  'partial': 0,\n",
              "  'missed': 250,\n",
              "  'spurious': 225,\n",
              "  'possible': 1635,\n",
              "  'actual': 1610,\n",
              "  'precision': 0.7608695652173914,\n",
              "  'recall': 0.7492354740061162}}"
            ]
          },
          "execution_count": 28,
          "metadata": {},
          "output_type": "execute_result"
        }
      ],
      "source": [
        "results"
      ]
    }
  ],
  "metadata": {
    "accelerator": "GPU",
    "colab": {
      "machine_shape": "hm",
      "provenance": []
    },
    "gpuClass": "standard",
    "kernelspec": {
      "display_name": "Python 3",
      "name": "python3"
    },
    "language_info": {
      "name": "python"
    }
  },
  "nbformat": 4,
  "nbformat_minor": 0
}
